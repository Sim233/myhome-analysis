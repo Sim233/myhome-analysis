{
 "cells": [
  {
   "cell_type": "code",
   "execution_count": 2,
   "metadata": {
    "collapsed": true
   },
   "outputs": [
    {
     "data": {
      "text/plain": "3.427116571030897e-05"
     },
     "execution_count": 2,
     "metadata": {},
     "output_type": "execute_result"
    }
   ],
   "source": [
    "from snownlp import SnowNLP\n",
    "text = u'7#的裂缝问题大家都知道，暂且不讨论这种反反复复的表面修补有什么作用，但是今天维修的工人连电钻都用上了，' \\\n",
    "       u'噪音大到说话的声音都听不到。请问为什么要在休息日，同学都在宿舍休息的时候搞这种维修？放在上课的时间不好吗？'\n",
    "s = SnowNLP(text)\n",
    "s.sentiments"
   ]
  },
  {
   "cell_type": "code",
   "execution_count": 20,
   "outputs": [
    {
     "name": "stdout",
     "output_type": "stream",
     "text": [
      "0.9932300494404891\n",
      "0.9994909515498622\n"
     ]
    }
   ],
   "source": [
    "text2 = u'希望结交清华大学的朋友！祝你们学习顺利，事事顺心！------'\n",
    "s2 = SnowNLP(text2)\n",
    "print(s2.sentiments)\n",
    "text3 = u'询问研究生新生住宿收费问题推研的时候并没有说明住宿收费问题，怎么突然这样了？特别是女生，一个系每年研究生就那么几个女生，' \\\n",
    "        u'研究生开学的时候如果要搬到新楼去的话，几乎没有几个人，给相互间的学习交流造成很大不便。'\n",
    "print(SnowNLP(text3).sentiments)"
   ],
   "metadata": {
    "collapsed": false,
    "pycharm": {
     "name": "#%%\n"
    }
   }
  },
  {
   "cell_type": "code",
   "execution_count": 5,
   "outputs": [
    {
     "data": {
      "text/plain": "   Unnamed: 0      filePath               title                 time  \\\n0           1  data/20.html       询问研究生新生住宿收费问题  2004.03.26 16:05:34   \n1           2  data/21.html  请问紫荆网络端口问题(3#)谁负责!  2004.03.26 21:25:43   \n2           3  data/22.html        有关5-12号楼信件问题  2004.03.27 01:25:34   \n3           4  data/23.html            十食堂的一些看法  2004.03.27 11:38:15   \n4           5  data/25.html     紫荆7#施工造成巨大噪音！！！  2004.03.27 13:36:14   \n\n            ipaddr                                            content  \\\n0    166.111.73.29  推研的时候并没有说明住宿收费问题，怎么突然这样了？特别是女生，一个系每年研究生就那么几个女生...   \n1   219.224.147.39                                    快半个学期了!(304A1#)   \n2  166.111.139.128                   希望可以及时将无人领取的信件做退回邮局处理，这样才可对发信人负责   \n3  166.111.144.217  昨天中午和一个老乡去吃饭，在十食堂2楼\\r\\r\\n要的当然是锅仔了\\r\\r\\n暂且不提，羊肉...   \n4   219.224.174.22  7#的裂缝问题大家都知道，暂且不讨论这种反反复复的表面修补有什么作用，但是今天维修的工人连电...   \n\n                                              answer answerBy  \\\n0  关于2004年研究生新生住宿收费问题，现在还没有具体方案，需要等研究生院下发通知，所以现在无...      NaN   \n1  紫荆学生公寓实现“一站式”服务，你有维修方面的任何问题，都可以拨打紫荆服务总台热线电话（51...      NaN   \n2  根据规定，信件在一周内无人认领，将退回邮局。根据你的反应，我们将督促员工及时检查楼内信箱中信...      NaN   \n3  同学你好！您的意见我们收悉。建议您可以到饮食服务中心反映类似的问题，相信他们会给您一个满意答...      NaN   \n4  紫荆7号楼的施工影响到大家的休息，首先向同学们道歉。紫荆公寓13栋楼的维修工作是由保修单位按...      NaN   \n\n         answerTime  replyCount replyContent  \n0  2004.03.26 16:23           0          NaN  \n1  2004.03.27 20:38           0          NaN  \n2  2004.03.27 20:51           0          NaN  \n3  2004.03.28 11:06           0          NaN  \n4  2004.03.28 10:52           0          NaN  ",
      "text/html": "<div>\n<style scoped>\n    .dataframe tbody tr th:only-of-type {\n        vertical-align: middle;\n    }\n\n    .dataframe tbody tr th {\n        vertical-align: top;\n    }\n\n    .dataframe thead th {\n        text-align: right;\n    }\n</style>\n<table border=\"1\" class=\"dataframe\">\n  <thead>\n    <tr style=\"text-align: right;\">\n      <th></th>\n      <th>Unnamed: 0</th>\n      <th>filePath</th>\n      <th>title</th>\n      <th>time</th>\n      <th>ipaddr</th>\n      <th>content</th>\n      <th>answer</th>\n      <th>answerBy</th>\n      <th>answerTime</th>\n      <th>replyCount</th>\n      <th>replyContent</th>\n    </tr>\n  </thead>\n  <tbody>\n    <tr>\n      <th>0</th>\n      <td>1</td>\n      <td>data/20.html</td>\n      <td>询问研究生新生住宿收费问题</td>\n      <td>2004.03.26 16:05:34</td>\n      <td>166.111.73.29</td>\n      <td>推研的时候并没有说明住宿收费问题，怎么突然这样了？特别是女生，一个系每年研究生就那么几个女生...</td>\n      <td>关于2004年研究生新生住宿收费问题，现在还没有具体方案，需要等研究生院下发通知，所以现在无...</td>\n      <td>NaN</td>\n      <td>2004.03.26 16:23</td>\n      <td>0</td>\n      <td>NaN</td>\n    </tr>\n    <tr>\n      <th>1</th>\n      <td>2</td>\n      <td>data/21.html</td>\n      <td>请问紫荆网络端口问题(3#)谁负责!</td>\n      <td>2004.03.26 21:25:43</td>\n      <td>219.224.147.39</td>\n      <td>快半个学期了!(304A1#)</td>\n      <td>紫荆学生公寓实现“一站式”服务，你有维修方面的任何问题，都可以拨打紫荆服务总台热线电话（51...</td>\n      <td>NaN</td>\n      <td>2004.03.27 20:38</td>\n      <td>0</td>\n      <td>NaN</td>\n    </tr>\n    <tr>\n      <th>2</th>\n      <td>3</td>\n      <td>data/22.html</td>\n      <td>有关5-12号楼信件问题</td>\n      <td>2004.03.27 01:25:34</td>\n      <td>166.111.139.128</td>\n      <td>希望可以及时将无人领取的信件做退回邮局处理，这样才可对发信人负责</td>\n      <td>根据规定，信件在一周内无人认领，将退回邮局。根据你的反应，我们将督促员工及时检查楼内信箱中信...</td>\n      <td>NaN</td>\n      <td>2004.03.27 20:51</td>\n      <td>0</td>\n      <td>NaN</td>\n    </tr>\n    <tr>\n      <th>3</th>\n      <td>4</td>\n      <td>data/23.html</td>\n      <td>十食堂的一些看法</td>\n      <td>2004.03.27 11:38:15</td>\n      <td>166.111.144.217</td>\n      <td>昨天中午和一个老乡去吃饭，在十食堂2楼\\r\\r\\n要的当然是锅仔了\\r\\r\\n暂且不提，羊肉...</td>\n      <td>同学你好！您的意见我们收悉。建议您可以到饮食服务中心反映类似的问题，相信他们会给您一个满意答...</td>\n      <td>NaN</td>\n      <td>2004.03.28 11:06</td>\n      <td>0</td>\n      <td>NaN</td>\n    </tr>\n    <tr>\n      <th>4</th>\n      <td>5</td>\n      <td>data/25.html</td>\n      <td>紫荆7#施工造成巨大噪音！！！</td>\n      <td>2004.03.27 13:36:14</td>\n      <td>219.224.174.22</td>\n      <td>7#的裂缝问题大家都知道，暂且不讨论这种反反复复的表面修补有什么作用，但是今天维修的工人连电...</td>\n      <td>紫荆7号楼的施工影响到大家的休息，首先向同学们道歉。紫荆公寓13栋楼的维修工作是由保修单位按...</td>\n      <td>NaN</td>\n      <td>2004.03.28 10:52</td>\n      <td>0</td>\n      <td>NaN</td>\n    </tr>\n  </tbody>\n</table>\n</div>"
     },
     "execution_count": 5,
     "metadata": {},
     "output_type": "execute_result"
    }
   ],
   "source": [
    "import pandas as pd\n",
    "df = pd.read_csv('../preprocess-data/jiayuan.csv', encoding=\"UTF-8\")\n",
    "df.head()"
   ],
   "metadata": {
    "collapsed": false,
    "pycharm": {
     "name": "#%%\n"
    }
   }
  },
  {
   "cell_type": "code",
   "execution_count": 13,
   "outputs": [
    {
     "name": "stdout",
     "output_type": "stream",
     "text": [
      "<class 'pandas.core.frame.DataFrame'>\n",
      "RangeIndex: 89325 entries, 0 to 89324\n",
      "Data columns (total 12 columns):\n",
      " #   Column        Non-Null Count  Dtype \n",
      "---  ------        --------------  ----- \n",
      " 0   Unnamed: 0    89325 non-null  int64 \n",
      " 1   filePath      89325 non-null  object\n",
      " 2   title         89324 non-null  object\n",
      " 3   time          89325 non-null  object\n",
      " 4   ipaddr        89325 non-null  object\n",
      " 5   content       89320 non-null  object\n",
      " 6   answer        62603 non-null  object\n",
      " 7   answerBy      57204 non-null  object\n",
      " 8   answerTime    62923 non-null  object\n",
      " 9   replyCount    89325 non-null  int64 \n",
      " 10  replyContent  18881 non-null  object\n",
      " 11  fulltext      89319 non-null  object\n",
      "dtypes: int64(2), object(10)\n",
      "memory usage: 8.2+ MB\n"
     ]
    }
   ],
   "source": [
    "df.info()"
   ],
   "metadata": {
    "collapsed": false,
    "pycharm": {
     "name": "#%%\n"
    }
   }
  },
  {
   "cell_type": "code",
   "execution_count": 16,
   "outputs": [
    {
     "name": "stdout",
     "output_type": "stream",
     "text": [
      "<class 'pandas.core.frame.DataFrame'>\n",
      "RangeIndex: 89325 entries, 0 to 89324\n",
      "Data columns (total 12 columns):\n",
      " #   Column        Non-Null Count  Dtype \n",
      "---  ------        --------------  ----- \n",
      " 0   Unnamed: 0    89325 non-null  int64 \n",
      " 1   filePath      89325 non-null  object\n",
      " 2   title         89325 non-null  object\n",
      " 3   time          89325 non-null  object\n",
      " 4   ipaddr        89325 non-null  object\n",
      " 5   content       89325 non-null  object\n",
      " 6   answer        62603 non-null  object\n",
      " 7   answerBy      57204 non-null  object\n",
      " 8   answerTime    62923 non-null  object\n",
      " 9   replyCount    89325 non-null  int64 \n",
      " 10  replyContent  18881 non-null  object\n",
      " 11  fulltext      89319 non-null  object\n",
      "dtypes: int64(2), object(10)\n",
      "memory usage: 8.2+ MB\n"
     ]
    }
   ],
   "source": [
    "df.loc[df['title'].isna(), 'title'] = ''\n",
    "df.loc[df['content'].isna(), 'content'] = ''\n",
    "df.info()"
   ],
   "metadata": {
    "collapsed": false,
    "pycharm": {
     "name": "#%%\n"
    }
   }
  },
  {
   "cell_type": "code",
   "execution_count": 17,
   "outputs": [
    {
     "data": {
      "text/plain": "   Unnamed: 0      filePath               title                 time  \\\n0           1  data/20.html       询问研究生新生住宿收费问题  2004.03.26 16:05:34   \n1           2  data/21.html  请问紫荆网络端口问题(3#)谁负责!  2004.03.26 21:25:43   \n2           3  data/22.html        有关5-12号楼信件问题  2004.03.27 01:25:34   \n3           4  data/23.html            十食堂的一些看法  2004.03.27 11:38:15   \n4           5  data/25.html     紫荆7#施工造成巨大噪音！！！  2004.03.27 13:36:14   \n\n            ipaddr                                            content  \\\n0    166.111.73.29  推研的时候并没有说明住宿收费问题，怎么突然这样了？特别是女生，一个系每年研究生就那么几个女生...   \n1   219.224.147.39                                    快半个学期了!(304A1#)   \n2  166.111.139.128                   希望可以及时将无人领取的信件做退回邮局处理，这样才可对发信人负责   \n3  166.111.144.217  昨天中午和一个老乡去吃饭，在十食堂2楼\\r\\r\\n要的当然是锅仔了\\r\\r\\n暂且不提，羊肉...   \n4   219.224.174.22  7#的裂缝问题大家都知道，暂且不讨论这种反反复复的表面修补有什么作用，但是今天维修的工人连电...   \n\n                                              answer answerBy  \\\n0  关于2004年研究生新生住宿收费问题，现在还没有具体方案，需要等研究生院下发通知，所以现在无...      NaN   \n1  紫荆学生公寓实现“一站式”服务，你有维修方面的任何问题，都可以拨打紫荆服务总台热线电话（51...      NaN   \n2  根据规定，信件在一周内无人认领，将退回邮局。根据你的反应，我们将督促员工及时检查楼内信箱中信...      NaN   \n3  同学你好！您的意见我们收悉。建议您可以到饮食服务中心反映类似的问题，相信他们会给您一个满意答...      NaN   \n4  紫荆7号楼的施工影响到大家的休息，首先向同学们道歉。紫荆公寓13栋楼的维修工作是由保修单位按...      NaN   \n\n         answerTime  replyCount replyContent  \\\n0  2004.03.26 16:23           0          NaN   \n1  2004.03.27 20:38           0          NaN   \n2  2004.03.27 20:51           0          NaN   \n3  2004.03.28 11:06           0          NaN   \n4  2004.03.28 10:52           0          NaN   \n\n                                            fulltext  \n0  询问研究生新生住宿收费问题推研的时候并没有说明住宿收费问题，怎么突然这样了？特别是女生，一个...  \n1                  请问紫荆网络端口问题(3#)谁负责!快半个学期了!(304A1#)  \n2       有关5-12号楼信件问题希望可以及时将无人领取的信件做退回邮局处理，这样才可对发信人负责  \n3  十食堂的一些看法昨天中午和一个老乡去吃饭，在十食堂2楼\\r\\r\\n要的当然是锅仔了\\r\\r\\...  \n4  紫荆7#施工造成巨大噪音！！！7#的裂缝问题大家都知道，暂且不讨论这种反反复复的表面修补有什...  ",
      "text/html": "<div>\n<style scoped>\n    .dataframe tbody tr th:only-of-type {\n        vertical-align: middle;\n    }\n\n    .dataframe tbody tr th {\n        vertical-align: top;\n    }\n\n    .dataframe thead th {\n        text-align: right;\n    }\n</style>\n<table border=\"1\" class=\"dataframe\">\n  <thead>\n    <tr style=\"text-align: right;\">\n      <th></th>\n      <th>Unnamed: 0</th>\n      <th>filePath</th>\n      <th>title</th>\n      <th>time</th>\n      <th>ipaddr</th>\n      <th>content</th>\n      <th>answer</th>\n      <th>answerBy</th>\n      <th>answerTime</th>\n      <th>replyCount</th>\n      <th>replyContent</th>\n      <th>fulltext</th>\n    </tr>\n  </thead>\n  <tbody>\n    <tr>\n      <th>0</th>\n      <td>1</td>\n      <td>data/20.html</td>\n      <td>询问研究生新生住宿收费问题</td>\n      <td>2004.03.26 16:05:34</td>\n      <td>166.111.73.29</td>\n      <td>推研的时候并没有说明住宿收费问题，怎么突然这样了？特别是女生，一个系每年研究生就那么几个女生...</td>\n      <td>关于2004年研究生新生住宿收费问题，现在还没有具体方案，需要等研究生院下发通知，所以现在无...</td>\n      <td>NaN</td>\n      <td>2004.03.26 16:23</td>\n      <td>0</td>\n      <td>NaN</td>\n      <td>询问研究生新生住宿收费问题推研的时候并没有说明住宿收费问题，怎么突然这样了？特别是女生，一个...</td>\n    </tr>\n    <tr>\n      <th>1</th>\n      <td>2</td>\n      <td>data/21.html</td>\n      <td>请问紫荆网络端口问题(3#)谁负责!</td>\n      <td>2004.03.26 21:25:43</td>\n      <td>219.224.147.39</td>\n      <td>快半个学期了!(304A1#)</td>\n      <td>紫荆学生公寓实现“一站式”服务，你有维修方面的任何问题，都可以拨打紫荆服务总台热线电话（51...</td>\n      <td>NaN</td>\n      <td>2004.03.27 20:38</td>\n      <td>0</td>\n      <td>NaN</td>\n      <td>请问紫荆网络端口问题(3#)谁负责!快半个学期了!(304A1#)</td>\n    </tr>\n    <tr>\n      <th>2</th>\n      <td>3</td>\n      <td>data/22.html</td>\n      <td>有关5-12号楼信件问题</td>\n      <td>2004.03.27 01:25:34</td>\n      <td>166.111.139.128</td>\n      <td>希望可以及时将无人领取的信件做退回邮局处理，这样才可对发信人负责</td>\n      <td>根据规定，信件在一周内无人认领，将退回邮局。根据你的反应，我们将督促员工及时检查楼内信箱中信...</td>\n      <td>NaN</td>\n      <td>2004.03.27 20:51</td>\n      <td>0</td>\n      <td>NaN</td>\n      <td>有关5-12号楼信件问题希望可以及时将无人领取的信件做退回邮局处理，这样才可对发信人负责</td>\n    </tr>\n    <tr>\n      <th>3</th>\n      <td>4</td>\n      <td>data/23.html</td>\n      <td>十食堂的一些看法</td>\n      <td>2004.03.27 11:38:15</td>\n      <td>166.111.144.217</td>\n      <td>昨天中午和一个老乡去吃饭，在十食堂2楼\\r\\r\\n要的当然是锅仔了\\r\\r\\n暂且不提，羊肉...</td>\n      <td>同学你好！您的意见我们收悉。建议您可以到饮食服务中心反映类似的问题，相信他们会给您一个满意答...</td>\n      <td>NaN</td>\n      <td>2004.03.28 11:06</td>\n      <td>0</td>\n      <td>NaN</td>\n      <td>十食堂的一些看法昨天中午和一个老乡去吃饭，在十食堂2楼\\r\\r\\n要的当然是锅仔了\\r\\r\\...</td>\n    </tr>\n    <tr>\n      <th>4</th>\n      <td>5</td>\n      <td>data/25.html</td>\n      <td>紫荆7#施工造成巨大噪音！！！</td>\n      <td>2004.03.27 13:36:14</td>\n      <td>219.224.174.22</td>\n      <td>7#的裂缝问题大家都知道，暂且不讨论这种反反复复的表面修补有什么作用，但是今天维修的工人连电...</td>\n      <td>紫荆7号楼的施工影响到大家的休息，首先向同学们道歉。紫荆公寓13栋楼的维修工作是由保修单位按...</td>\n      <td>NaN</td>\n      <td>2004.03.28 10:52</td>\n      <td>0</td>\n      <td>NaN</td>\n      <td>紫荆7#施工造成巨大噪音！！！7#的裂缝问题大家都知道，暂且不讨论这种反反复复的表面修补有什...</td>\n    </tr>\n  </tbody>\n</table>\n</div>"
     },
     "execution_count": 17,
     "metadata": {},
     "output_type": "execute_result"
    }
   ],
   "source": [
    "df['fulltext'] = df['title'] + df['content']\n",
    "df.head()"
   ],
   "metadata": {
    "collapsed": false,
    "pycharm": {
     "name": "#%%\n"
    }
   }
  },
  {
   "cell_type": "code",
   "execution_count": 18,
   "outputs": [
    {
     "data": {
      "text/plain": "   Unnamed: 0      filePath               title                 time  \\\n0           1  data/20.html       询问研究生新生住宿收费问题  2004.03.26 16:05:34   \n1           2  data/21.html  请问紫荆网络端口问题(3#)谁负责!  2004.03.26 21:25:43   \n2           3  data/22.html        有关5-12号楼信件问题  2004.03.27 01:25:34   \n3           4  data/23.html            十食堂的一些看法  2004.03.27 11:38:15   \n4           5  data/25.html     紫荆7#施工造成巨大噪音！！！  2004.03.27 13:36:14   \n\n            ipaddr                                            content  \\\n0    166.111.73.29  推研的时候并没有说明住宿收费问题，怎么突然这样了？特别是女生，一个系每年研究生就那么几个女生...   \n1   219.224.147.39                                    快半个学期了!(304A1#)   \n2  166.111.139.128                   希望可以及时将无人领取的信件做退回邮局处理，这样才可对发信人负责   \n3  166.111.144.217  昨天中午和一个老乡去吃饭，在十食堂2楼\\r\\r\\n要的当然是锅仔了\\r\\r\\n暂且不提，羊肉...   \n4   219.224.174.22  7#的裂缝问题大家都知道，暂且不讨论这种反反复复的表面修补有什么作用，但是今天维修的工人连电...   \n\n                                              answer answerBy  \\\n0  关于2004年研究生新生住宿收费问题，现在还没有具体方案，需要等研究生院下发通知，所以现在无...      NaN   \n1  紫荆学生公寓实现“一站式”服务，你有维修方面的任何问题，都可以拨打紫荆服务总台热线电话（51...      NaN   \n2  根据规定，信件在一周内无人认领，将退回邮局。根据你的反应，我们将督促员工及时检查楼内信箱中信...      NaN   \n3  同学你好！您的意见我们收悉。建议您可以到饮食服务中心反映类似的问题，相信他们会给您一个满意答...      NaN   \n4  紫荆7号楼的施工影响到大家的休息，首先向同学们道歉。紫荆公寓13栋楼的维修工作是由保修单位按...      NaN   \n\n         answerTime  replyCount replyContent  \\\n0  2004.03.26 16:23           0          NaN   \n1  2004.03.27 20:38           0          NaN   \n2  2004.03.27 20:51           0          NaN   \n3  2004.03.28 11:06           0          NaN   \n4  2004.03.28 10:52           0          NaN   \n\n                                            fulltext     senti  \n0  询问研究生新生住宿收费问题推研的时候并没有说明住宿收费问题，怎么突然这样了？特别是女生，一个...  0.999491  \n1                  请问紫荆网络端口问题(3#)谁负责!快半个学期了!(304A1#)  0.162240  \n2       有关5-12号楼信件问题希望可以及时将无人领取的信件做退回邮局处理，这样才可对发信人负责  0.094542  \n3  十食堂的一些看法昨天中午和一个老乡去吃饭，在十食堂2楼\\r\\r\\n要的当然是锅仔了\\r\\r\\...  0.972891  \n4  紫荆7#施工造成巨大噪音！！！7#的裂缝问题大家都知道，暂且不讨论这种反反复复的表面修补有什...  0.000025  ",
      "text/html": "<div>\n<style scoped>\n    .dataframe tbody tr th:only-of-type {\n        vertical-align: middle;\n    }\n\n    .dataframe tbody tr th {\n        vertical-align: top;\n    }\n\n    .dataframe thead th {\n        text-align: right;\n    }\n</style>\n<table border=\"1\" class=\"dataframe\">\n  <thead>\n    <tr style=\"text-align: right;\">\n      <th></th>\n      <th>Unnamed: 0</th>\n      <th>filePath</th>\n      <th>title</th>\n      <th>time</th>\n      <th>ipaddr</th>\n      <th>content</th>\n      <th>answer</th>\n      <th>answerBy</th>\n      <th>answerTime</th>\n      <th>replyCount</th>\n      <th>replyContent</th>\n      <th>fulltext</th>\n      <th>senti</th>\n    </tr>\n  </thead>\n  <tbody>\n    <tr>\n      <th>0</th>\n      <td>1</td>\n      <td>data/20.html</td>\n      <td>询问研究生新生住宿收费问题</td>\n      <td>2004.03.26 16:05:34</td>\n      <td>166.111.73.29</td>\n      <td>推研的时候并没有说明住宿收费问题，怎么突然这样了？特别是女生，一个系每年研究生就那么几个女生...</td>\n      <td>关于2004年研究生新生住宿收费问题，现在还没有具体方案，需要等研究生院下发通知，所以现在无...</td>\n      <td>NaN</td>\n      <td>2004.03.26 16:23</td>\n      <td>0</td>\n      <td>NaN</td>\n      <td>询问研究生新生住宿收费问题推研的时候并没有说明住宿收费问题，怎么突然这样了？特别是女生，一个...</td>\n      <td>0.999491</td>\n    </tr>\n    <tr>\n      <th>1</th>\n      <td>2</td>\n      <td>data/21.html</td>\n      <td>请问紫荆网络端口问题(3#)谁负责!</td>\n      <td>2004.03.26 21:25:43</td>\n      <td>219.224.147.39</td>\n      <td>快半个学期了!(304A1#)</td>\n      <td>紫荆学生公寓实现“一站式”服务，你有维修方面的任何问题，都可以拨打紫荆服务总台热线电话（51...</td>\n      <td>NaN</td>\n      <td>2004.03.27 20:38</td>\n      <td>0</td>\n      <td>NaN</td>\n      <td>请问紫荆网络端口问题(3#)谁负责!快半个学期了!(304A1#)</td>\n      <td>0.162240</td>\n    </tr>\n    <tr>\n      <th>2</th>\n      <td>3</td>\n      <td>data/22.html</td>\n      <td>有关5-12号楼信件问题</td>\n      <td>2004.03.27 01:25:34</td>\n      <td>166.111.139.128</td>\n      <td>希望可以及时将无人领取的信件做退回邮局处理，这样才可对发信人负责</td>\n      <td>根据规定，信件在一周内无人认领，将退回邮局。根据你的反应，我们将督促员工及时检查楼内信箱中信...</td>\n      <td>NaN</td>\n      <td>2004.03.27 20:51</td>\n      <td>0</td>\n      <td>NaN</td>\n      <td>有关5-12号楼信件问题希望可以及时将无人领取的信件做退回邮局处理，这样才可对发信人负责</td>\n      <td>0.094542</td>\n    </tr>\n    <tr>\n      <th>3</th>\n      <td>4</td>\n      <td>data/23.html</td>\n      <td>十食堂的一些看法</td>\n      <td>2004.03.27 11:38:15</td>\n      <td>166.111.144.217</td>\n      <td>昨天中午和一个老乡去吃饭，在十食堂2楼\\r\\r\\n要的当然是锅仔了\\r\\r\\n暂且不提，羊肉...</td>\n      <td>同学你好！您的意见我们收悉。建议您可以到饮食服务中心反映类似的问题，相信他们会给您一个满意答...</td>\n      <td>NaN</td>\n      <td>2004.03.28 11:06</td>\n      <td>0</td>\n      <td>NaN</td>\n      <td>十食堂的一些看法昨天中午和一个老乡去吃饭，在十食堂2楼\\r\\r\\n要的当然是锅仔了\\r\\r\\...</td>\n      <td>0.972891</td>\n    </tr>\n    <tr>\n      <th>4</th>\n      <td>5</td>\n      <td>data/25.html</td>\n      <td>紫荆7#施工造成巨大噪音！！！</td>\n      <td>2004.03.27 13:36:14</td>\n      <td>219.224.174.22</td>\n      <td>7#的裂缝问题大家都知道，暂且不讨论这种反反复复的表面修补有什么作用，但是今天维修的工人连电...</td>\n      <td>紫荆7号楼的施工影响到大家的休息，首先向同学们道歉。紫荆公寓13栋楼的维修工作是由保修单位按...</td>\n      <td>NaN</td>\n      <td>2004.03.28 10:52</td>\n      <td>0</td>\n      <td>NaN</td>\n      <td>紫荆7#施工造成巨大噪音！！！7#的裂缝问题大家都知道，暂且不讨论这种反反复复的表面修补有什...</td>\n      <td>0.000025</td>\n    </tr>\n  </tbody>\n</table>\n</div>"
     },
     "execution_count": 18,
     "metadata": {},
     "output_type": "execute_result"
    }
   ],
   "source": [
    "df['senti'] = df['fulltext'].apply(lambda a: SnowNLP(a).sentiments)\n",
    "df.head()"
   ],
   "metadata": {
    "collapsed": false,
    "pycharm": {
     "name": "#%%\n"
    }
   }
  },
  {
   "cell_type": "code",
   "execution_count": 24,
   "outputs": [
    {
     "data": {
      "text/plain": "   Unnamed: 0      filePath                 time           ipaddr  \\\n0           1  data/20.html  2004.03.26 16:05:34    166.111.73.29   \n1           2  data/21.html  2004.03.26 21:25:43   219.224.147.39   \n2           3  data/22.html  2004.03.27 01:25:34  166.111.139.128   \n3           4  data/23.html  2004.03.27 11:38:15  166.111.144.217   \n4           5  data/25.html  2004.03.27 13:36:14   219.224.174.22   \n\n                                              answer answerBy  \\\n0  关于2004年研究生新生住宿收费问题，现在还没有具体方案，需要等研究生院下发通知，所以现在无...      NaN   \n1  紫荆学生公寓实现“一站式”服务，你有维修方面的任何问题，都可以拨打紫荆服务总台热线电话（51...      NaN   \n2  根据规定，信件在一周内无人认领，将退回邮局。根据你的反应，我们将督促员工及时检查楼内信箱中信...      NaN   \n3  同学你好！您的意见我们收悉。建议您可以到饮食服务中心反映类似的问题，相信他们会给您一个满意答...      NaN   \n4  紫荆7号楼的施工影响到大家的休息，首先向同学们道歉。紫荆公寓13栋楼的维修工作是由保修单位按...      NaN   \n\n         answerTime  replyCount replyContent  \\\n0  2004.03.26 16:23           0          NaN   \n1  2004.03.27 20:38           0          NaN   \n2  2004.03.27 20:51           0          NaN   \n3  2004.03.28 11:06           0          NaN   \n4  2004.03.28 10:52           0          NaN   \n\n                                            fulltext     senti  \n0  询问研究生新生住宿收费问题推研的时候并没有说明住宿收费问题，怎么突然这样了？特别是女生，一个...  0.999491  \n1                  请问紫荆网络端口问题(3#)谁负责!快半个学期了!(304A1#)  0.162240  \n2       有关5-12号楼信件问题希望可以及时将无人领取的信件做退回邮局处理，这样才可对发信人负责  0.094542  \n3  十食堂的一些看法昨天中午和一个老乡去吃饭，在十食堂2楼\\r\\r\\n要的当然是锅仔了\\r\\r\\...  0.972891  \n4  紫荆7#施工造成巨大噪音！！！7#的裂缝问题大家都知道，暂且不讨论这种反反复复的表面修补有什...  0.000025  ",
      "text/html": "<div>\n<style scoped>\n    .dataframe tbody tr th:only-of-type {\n        vertical-align: middle;\n    }\n\n    .dataframe tbody tr th {\n        vertical-align: top;\n    }\n\n    .dataframe thead th {\n        text-align: right;\n    }\n</style>\n<table border=\"1\" class=\"dataframe\">\n  <thead>\n    <tr style=\"text-align: right;\">\n      <th></th>\n      <th>Unnamed: 0</th>\n      <th>filePath</th>\n      <th>time</th>\n      <th>ipaddr</th>\n      <th>answer</th>\n      <th>answerBy</th>\n      <th>answerTime</th>\n      <th>replyCount</th>\n      <th>replyContent</th>\n      <th>fulltext</th>\n      <th>senti</th>\n    </tr>\n  </thead>\n  <tbody>\n    <tr>\n      <th>0</th>\n      <td>1</td>\n      <td>data/20.html</td>\n      <td>2004.03.26 16:05:34</td>\n      <td>166.111.73.29</td>\n      <td>关于2004年研究生新生住宿收费问题，现在还没有具体方案，需要等研究生院下发通知，所以现在无...</td>\n      <td>NaN</td>\n      <td>2004.03.26 16:23</td>\n      <td>0</td>\n      <td>NaN</td>\n      <td>询问研究生新生住宿收费问题推研的时候并没有说明住宿收费问题，怎么突然这样了？特别是女生，一个...</td>\n      <td>0.999491</td>\n    </tr>\n    <tr>\n      <th>1</th>\n      <td>2</td>\n      <td>data/21.html</td>\n      <td>2004.03.26 21:25:43</td>\n      <td>219.224.147.39</td>\n      <td>紫荆学生公寓实现“一站式”服务，你有维修方面的任何问题，都可以拨打紫荆服务总台热线电话（51...</td>\n      <td>NaN</td>\n      <td>2004.03.27 20:38</td>\n      <td>0</td>\n      <td>NaN</td>\n      <td>请问紫荆网络端口问题(3#)谁负责!快半个学期了!(304A1#)</td>\n      <td>0.162240</td>\n    </tr>\n    <tr>\n      <th>2</th>\n      <td>3</td>\n      <td>data/22.html</td>\n      <td>2004.03.27 01:25:34</td>\n      <td>166.111.139.128</td>\n      <td>根据规定，信件在一周内无人认领，将退回邮局。根据你的反应，我们将督促员工及时检查楼内信箱中信...</td>\n      <td>NaN</td>\n      <td>2004.03.27 20:51</td>\n      <td>0</td>\n      <td>NaN</td>\n      <td>有关5-12号楼信件问题希望可以及时将无人领取的信件做退回邮局处理，这样才可对发信人负责</td>\n      <td>0.094542</td>\n    </tr>\n    <tr>\n      <th>3</th>\n      <td>4</td>\n      <td>data/23.html</td>\n      <td>2004.03.27 11:38:15</td>\n      <td>166.111.144.217</td>\n      <td>同学你好！您的意见我们收悉。建议您可以到饮食服务中心反映类似的问题，相信他们会给您一个满意答...</td>\n      <td>NaN</td>\n      <td>2004.03.28 11:06</td>\n      <td>0</td>\n      <td>NaN</td>\n      <td>十食堂的一些看法昨天中午和一个老乡去吃饭，在十食堂2楼\\r\\r\\n要的当然是锅仔了\\r\\r\\...</td>\n      <td>0.972891</td>\n    </tr>\n    <tr>\n      <th>4</th>\n      <td>5</td>\n      <td>data/25.html</td>\n      <td>2004.03.27 13:36:14</td>\n      <td>219.224.174.22</td>\n      <td>紫荆7号楼的施工影响到大家的休息，首先向同学们道歉。紫荆公寓13栋楼的维修工作是由保修单位按...</td>\n      <td>NaN</td>\n      <td>2004.03.28 10:52</td>\n      <td>0</td>\n      <td>NaN</td>\n      <td>紫荆7#施工造成巨大噪音！！！7#的裂缝问题大家都知道，暂且不讨论这种反反复复的表面修补有什...</td>\n      <td>0.000025</td>\n    </tr>\n  </tbody>\n</table>\n</div>"
     },
     "execution_count": 24,
     "metadata": {},
     "output_type": "execute_result"
    }
   ],
   "source": [
    "df.drop(['title', 'content'], axis=1, inplace=True)\n",
    "df.head()"
   ],
   "metadata": {
    "collapsed": false,
    "pycharm": {
     "name": "#%%\n"
    }
   }
  },
  {
   "cell_type": "code",
   "execution_count": 25,
   "outputs": [],
   "source": [
    "df.to_csv('senti.csv')"
   ],
   "metadata": {
    "collapsed": false,
    "pycharm": {
     "name": "#%%\n"
    }
   }
  }
 ],
 "metadata": {
  "kernelspec": {
   "display_name": "Python 3",
   "language": "python",
   "name": "python3"
  },
  "language_info": {
   "codemirror_mode": {
    "name": "ipython",
    "version": 2
   },
   "file_extension": ".py",
   "mimetype": "text/x-python",
   "name": "python",
   "nbconvert_exporter": "python",
   "pygments_lexer": "ipython2",
   "version": "2.7.6"
  }
 },
 "nbformat": 4,
 "nbformat_minor": 0
}